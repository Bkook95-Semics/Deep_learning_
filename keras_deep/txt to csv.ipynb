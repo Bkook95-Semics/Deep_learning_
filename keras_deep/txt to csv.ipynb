{
 "cells": [
  {
   "cell_type": "code",
   "execution_count": 9,
   "metadata": {},
   "outputs": [],
   "source": [
    "import csv \n",
    "    \n",
    "\n",
    "outputfile = open('씨빨@!!!!!.csv','w', newline=(''))\n",
    "wr = csv.writer(outputfile, quoting = csv.QUOTE_ALL)\n",
    "\n",
    "with open('label T 완성본.txt', 'r') as file:\n",
    "        for row in file:\n",
    "            #print(row)\n",
    "            list= []\n",
    "            data = row.split('\\n')\n",
    "            for data1 in data:\n",
    "                data2 = data1[:-1].split(',')\n",
    "                print(data1[0:-1]) # 갯수 제외\n",
    "                count = data1[-1:] #갯수따로\n",
    "                data2.insert(1,count)\n",
    "                for data3 in data2:\n",
    "                    list.append(data3)\n",
    "                    \n",
    "            wr.writerow(list)"
   ]
  },
  {
   "cell_type": "code",
   "execution_count": null,
   "metadata": {},
   "outputs": [],
   "source": []
  }
 ],
 "metadata": {
  "kernelspec": {
   "display_name": "Python 3",
   "language": "python",
   "name": "python3"
  },
  "language_info": {
   "codemirror_mode": {
    "name": "ipython",
    "version": 3
   },
   "file_extension": ".py",
   "mimetype": "text/x-python",
   "name": "python",
   "nbconvert_exporter": "python",
   "pygments_lexer": "ipython3",
   "version": "3.6.8"
  }
 },
 "nbformat": 4,
 "nbformat_minor": 2
}
